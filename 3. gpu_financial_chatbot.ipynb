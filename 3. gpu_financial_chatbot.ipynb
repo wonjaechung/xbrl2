import torch
import warnings
import logging

# Configure logging
logging.basicConfig(level=logging.INFO)
logger = logging.getLogger(__name__)

# Check GPU availability
def check_gpu_status():
    """Check and display GPU status."""
    print("=== GPU Status ===")
    print(f"PyTorch version: {torch.__version__}")
    print(f"CUDA available: {torch.cuda.is_available()}")
    
    if torch.cuda.is_available():
        print(f"CUDA version: {torch.version.cuda}")
        print(f"Number of GPUs: {torch.cuda.device_count()}")
        for i in range(torch.cuda.device_count()):
            print(f"  GPU {i}: {torch.cuda.get_device_name(i)}")
            print(f"  Memory: {torch.cuda.get_device_properties(i).total_memory / 1024**3:.1f} GB")
    else:
        print("No CUDA GPUs available. Will use CPU.")
    
    # Check FAISS GPU
    try:
        import faiss
        print(f"\nFAISS version: {faiss.__version__ if hasattr(faiss, '__version__') else 'Unknown'}")
        print(f"FAISS GPU support: {hasattr(faiss, 'StandardGpuResources')}")
    except ImportError:
        print("\nFAISS not available")

check_gpu_status()### 2. GPU Detection and Setup# Install required packages for GPU acceleration
%pip install -q torch torchvision torchaudio --index-url https://download.pytorch.org/whl/cu118
%pip install -q faiss-gpu  # GPU-accelerated FAISS
%pip install -q langchain langchain-community langchain-ollama
%pip install -q sentence-transformers transformers
%pip install -q unstructured markdown numpy### 1. Install GPU-Optimized Packages# GPU-Accelerated Financial Expert Chatbot with Enhanced Vectorization

This notebook implements a high-performance financial expert chatbot using GPU-accelerated vectorization.

**Key Features:**
- GPU-accelerated embeddings with PyTorch CUDA
- FAISS-GPU for ultra-fast similarity search
- Batch processing for maximum GPU utilization
- Automatic fallback to CPU if GPU unavailable
- Enhanced Korean language support

The chatbot uses a Retrieval-Augmented Generation (RAG) pipeline optimized for GPU acceleration.