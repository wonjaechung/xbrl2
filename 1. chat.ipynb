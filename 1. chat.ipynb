{
 "cells": [
  {
   "cell_type": "code",
   "execution_count": null,
   "id": "a891a3d9",
   "metadata": {},
   "outputs": [],
   "source": [
    "# %pip install -q langchain-ChatOllama "
   ]
  },
  {
   "cell_type": "markdown",
   "id": "086696cb",
   "metadata": {},
   "source": [
    "# Ollama"
   ]
  },
  {
   "cell_type": "markdown",
   "id": "4973ec46",
   "metadata": {},
   "source": [
    "### Exaone"
   ]
  },
  {
   "cell_type": "code",
   "execution_count": null,
   "id": "71e99404",
   "metadata": {},
   "outputs": [
    {
     "data": {
      "text/plain": [
       "AIMessage(content='The capital of France is **Paris**. 🗼', additional_kwargs={}, response_metadata={'model': 'exaone3.5:7.8b', 'created_at': '2025-07-31T15:37:30.206285Z', 'done': True, 'done_reason': 'stop', 'total_duration': 11077223792, 'load_duration': 7173352875, 'prompt_eval_count': 41, 'prompt_eval_duration': 3217083000, 'eval_count': 13, 'eval_duration': 681824042, 'model_name': 'exaone3.5:7.8b'}, id='run--9041b6f2-3b8d-4119-8898-4d310cc67cf8-0', usage_metadata={'input_tokens': 41, 'output_tokens': 13, 'total_tokens': 54})"
      ]
     },
     "execution_count": 3,
     "metadata": {},
     "output_type": "execute_result"
    }
   ],
   "source": [
    "from langchain_ollama import ChatOllama\n",
    "\n",
    "\n",
    "llm = ChatOllama(model=\"exaone3.5:7.8b\")\n",
    "\n",
    "llm.invoke(\"What is the capital of France?\")"
   ]
  },
  {
   "cell_type": "markdown",
   "id": "5de7fee9",
   "metadata": {},
   "source": [
    "# OpenAI"
   ]
  },
  {
   "cell_type": "code",
   "execution_count": 12,
   "id": "1c620e42",
   "metadata": {},
   "outputs": [],
   "source": [
    "#%pip install -q langchain-openai\n",
    "#%pip install -q python-dotenv\n",
    "from langchain_openai import ChatOpenAI\n",
    "from dotenv import load_dotenv"
   ]
  },
  {
   "cell_type": "code",
   "execution_count": 14,
   "id": "18b4926b",
   "metadata": {},
   "outputs": [
    {
     "data": {
      "text/plain": [
       "AIMessage(content='The capital of France is Paris.', additional_kwargs={'refusal': None}, response_metadata={'token_usage': {'completion_tokens': 7, 'prompt_tokens': 14, 'total_tokens': 21, 'completion_tokens_details': {'accepted_prediction_tokens': 0, 'audio_tokens': 0, 'reasoning_tokens': 0, 'rejected_prediction_tokens': 0}, 'prompt_tokens_details': {'audio_tokens': 0, 'cached_tokens': 0}}, 'model_name': 'gpt-4o-mini-2024-07-18', 'system_fingerprint': 'fp_34a54ae93c', 'id': 'chatcmpl-BzPomZUQ2oFGQPCvnsRhgpT9uDGOk', 'service_tier': 'default', 'finish_reason': 'stop', 'logprobs': None}, id='run--4cc39d59-0c4b-4c5d-833f-c732a0e368a4-0', usage_metadata={'input_tokens': 14, 'output_tokens': 7, 'total_tokens': 21, 'input_token_details': {'audio': 0, 'cache_read': 0}, 'output_token_details': {'audio': 0, 'reasoning': 0}})"
      ]
     },
     "execution_count": 14,
     "metadata": {},
     "output_type": "execute_result"
    }
   ],
   "source": [
    "load_dotenv()\n",
    "\n",
    "llm = ChatOpenAI(model=\"gpt-4o-mini\")\n",
    "\n",
    "llm.invoke(\"What is the capital of France?\")"
   ]
  },
  {
   "cell_type": "markdown",
   "id": "6d75c08c",
   "metadata": {},
   "source": [
    "프롬프트는 무엇인가? \n",
    "-> llm.invoke(\"What is the capital of France?\") -> LLM을 호출하는 명령어 \n",
    "-> invote할때 \n",
    "    - str (capital of France), \n",
    "    - PromptValue (Langchain에 prompt template 있음)"
   ]
  },
  {
   "cell_type": "code",
   "execution_count": 24,
   "id": "7adf2ba8",
   "metadata": {},
   "outputs": [],
   "source": [
    "# prmompt value 예시 \n",
    "\n",
    "from langchain_core.prompts import PromptTemplate\n",
    "from langchain_core.output_parsers import StrOutputParser\n",
    "\n",
    "prompt_template = PromptTemplate(\n",
    "    template = \"What is the capital of {country}? Return the name of the city only.\",\n",
    "    input_variables = [\"country\"]\n",
    ")\n",
    "\n",
    "prompt = prompt_template.invoke({\"country\": \"France\"})\n",
    "\n",
    "ai_message = llm.invoke(prompt)\n",
    "\n",
    "output_parser = StrOutputParser()\n",
    "answer = output_parser.invoke(ai_message)"
   ]
  },
  {
   "cell_type": "code",
   "execution_count": 25,
   "id": "4e45e688",
   "metadata": {},
   "outputs": [
    {
     "data": {
      "text/plain": [
       "AIMessage(content='Paris', additional_kwargs={'refusal': None}, response_metadata={'token_usage': {'completion_tokens': 1, 'prompt_tokens': 22, 'total_tokens': 23, 'completion_tokens_details': {'accepted_prediction_tokens': 0, 'audio_tokens': 0, 'reasoning_tokens': 0, 'rejected_prediction_tokens': 0}, 'prompt_tokens_details': {'audio_tokens': 0, 'cached_tokens': 0}}, 'model_name': 'gpt-4o-mini-2024-07-18', 'system_fingerprint': 'fp_34a54ae93c', 'id': 'chatcmpl-BzQHp56bsplO2TMZh0cr1ep4AGZ0z', 'service_tier': 'default', 'finish_reason': 'stop', 'logprobs': None}, id='run--dbac3ccb-0d7b-4a86-9220-d44b343614c9-0', usage_metadata={'input_tokens': 22, 'output_tokens': 1, 'total_tokens': 23, 'input_token_details': {'audio': 0, 'cache_read': 0}, 'output_token_details': {'audio': 0, 'reasoning': 0}})"
      ]
     },
     "execution_count": 25,
     "metadata": {},
     "output_type": "execute_result"
    }
   ],
   "source": [
    "ai_message"
   ]
  },
  {
   "cell_type": "code",
   "execution_count": null,
   "id": "62460bb0",
   "metadata": {},
   "outputs": [
    {
     "data": {
      "text/plain": [
       "'Paris'"
      ]
     },
     "execution_count": 26,
     "metadata": {},
     "output_type": "execute_result"
    }
   ],
   "source": [
    "from langchain_core.output_parsers import StrOutputParser"
   ]
  },
  {
   "cell_type": "markdown",
   "id": "bcee4f87",
   "metadata": {},
   "source": []
  }
 ],
 "metadata": {
  "kernelspec": {
   "display_name": "celt",
   "language": "python",
   "name": "python3"
  },
  "language_info": {
   "codemirror_mode": {
    "name": "ipython",
    "version": 3
   },
   "file_extension": ".py",
   "mimetype": "text/x-python",
   "name": "python",
   "nbconvert_exporter": "python",
   "pygments_lexer": "ipython3",
   "version": "3.11.13"
  }
 },
 "nbformat": 4,
 "nbformat_minor": 5
}
